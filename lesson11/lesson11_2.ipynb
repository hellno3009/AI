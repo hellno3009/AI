{
 "cells": [
  {
   "cell_type": "code",
   "execution_count": null,
   "metadata": {},
   "outputs": [],
   "source": [
    "import requests\n",
    "from requests.exceptions import HTTPError,ConnectionError,Timeout\n",
    "\n",
    "try:\n",
    "    url = \"https://tcgbusfs.blob.core.windows.net/dotapp/youbike/v2/youbike_immediate.json\"\n",
    "    response = requests.get(url)\n",
    "    response.raise_for_status()\n",
    "    content = response.text\n",
    "    #print(content)\n",
    "except ConnectionError:\n",
    "    print(\"連線伺服器發生錯誤\")\n",
    "except Timeout:\n",
    "    print(\"伺服器忙碌,沒有回應\")\n",
    "except HTTPError:\n",
    "    print(\"伺服器回應連線錯誤\")\n",
    "except Exception:\n",
    "    print(\"不知名的錯誤\")\n",
    "\n",
    "content"
   ]
  },
  {
   "cell_type": "code",
   "execution_count": null,
   "metadata": {},
   "outputs": [],
   "source": [
    "station_str = '''\n",
    "{\"sno\":\"500101001\",\"sna\":\"YouBike2.0_捷運科技大樓站\",\"sarea\":\"大安區\",\"mday\":\"2024-09-02 21:01:24\",\"ar\":\"復興南路二段235號前\",\"sareaen\":\"Daan Dist.\",\"snaen\":\"YouBike2.0_MRT Technology Bldg. Sta.\",\"aren\":\"No.235， Sec. 2， Fuxing S. Rd.\",\"act\":\"1\",\"srcUpdateTime\":\"2024-09-02 21:01:24\",\"updateTime\":\"2024-09-02 21:01:26\",\"infoTime\":\"2024-09-02 21:01:24\",\"infoDate\":\"2024-09-02\",\"total\":28,\"available_rent_bikes\":2,\"latitude\":25.02605,\"longitude\":121.5436,\"available_return_bikes\":26}\n",
    "'''\n",
    "station_str"
   ]
  },
  {
   "cell_type": "code",
   "execution_count": null,
   "metadata": {},
   "outputs": [],
   "source": [
    "import json\n",
    "\n",
    "sta1 = json.loads(station_str)\n",
    "print(type(sta1))"
   ]
  },
  {
   "cell_type": "code",
   "execution_count": null,
   "metadata": {},
   "outputs": [],
   "source": [
    "from pydantic import BaseModel\n",
    "\n",
    "class Station(BaseModel):\n",
    "    sno:int\n",
    "    sna:str\n",
    "    sarea:str\n",
    "    mday:str\n",
    "    ar:str\n",
    "    total:int\n",
    "    available_rent_bikes:int\n",
    "    available_return_bikes:int\n",
    "\n",
    "#使用classMethod建立實體\n",
    "sta1 = Station.model_validate_json(station_str)\n",
    "print(sta1.sna)\n",
    "print(sta1.sno)\n",
    "print(sta1.total)\n",
    "#使用實體方法轉換為python的資料結構\n",
    "sta1.model_dump()"
   ]
  }
 ],
 "metadata": {
  "language_info": {
   "name": "python"
  }
 },
 "nbformat": 4,
 "nbformat_minor": 2
}
