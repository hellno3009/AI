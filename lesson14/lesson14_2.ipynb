{
 "cells": [
  {
   "cell_type": "code",
   "execution_count": 1,
   "metadata": {},
   "outputs": [
    {
     "data": {
      "text/plain": [
       "(5, 7)"
      ]
     },
     "execution_count": 1,
     "metadata": {},
     "output_type": "execute_result"
    }
   ],
   "source": [
    "5,7"
   ]
  },
  {
   "cell_type": "code",
   "execution_count": 2,
   "metadata": {},
   "outputs": [
    {
     "data": {
      "text/plain": [
       "(5,)"
      ]
     },
     "execution_count": 2,
     "metadata": {},
     "output_type": "execute_result"
    }
   ],
   "source": [
    "(5,)"
   ]
  },
  {
   "cell_type": "code",
   "execution_count": 3,
   "metadata": {},
   "outputs": [
    {
     "data": {
      "text/plain": [
       "[1, 3, 5, 7, 9, 3, 5, 6, 7, 9]"
      ]
     },
     "execution_count": 3,
     "metadata": {},
     "output_type": "execute_result"
    }
   ],
   "source": [
    "list_a = [1,3,5,7,9]\n",
    "list_b = [3,5,6,7,9]\n",
    "list_a + list_b"
   ]
  },
  {
   "cell_type": "code",
   "execution_count": 4,
   "metadata": {},
   "outputs": [
    {
     "data": {
      "text/plain": [
       "array([ 4,  8, 11, 14, 18])"
      ]
     },
     "execution_count": 4,
     "metadata": {},
     "output_type": "execute_result"
    }
   ],
   "source": [
    "import numpy as np \n",
    "array_a = np.array([1,3,5,7,9])\n",
    "array_b = np.array([3,5,6,7,9])\n",
    "type(array_a)\n",
    "array_a + array_b"
   ]
  },
  {
   "cell_type": "code",
   "execution_count": 7,
   "metadata": {},
   "outputs": [
    {
     "data": {
      "text/plain": [
       "(0, (), 1, dtype('int64'))"
      ]
     },
     "execution_count": 7,
     "metadata": {},
     "output_type": "execute_result"
    }
   ],
   "source": [
    "import numpy as np\n",
    "\n",
    "l = [[1,2,3],[4,5,6]]\n",
    "array = np.array(1)\n",
    "array.ndim, array.shape, array.size, array.dtype"
   ]
  },
  {
   "cell_type": "code",
   "execution_count": 5,
   "metadata": {},
   "outputs": [
    {
     "data": {
      "text/plain": [
       "array([[ 0.84441504, -1.22901194, -0.28865951,  0.0448865 ,  0.24206287],\n",
       "       [-0.18614526, -0.75628583,  0.06843717, -0.13595803,  1.22226252],\n",
       "       [-0.86034621,  0.14022993,  0.01550267, -1.01638058,  0.58925806],\n",
       "       [ 1.84265075,  0.64058194,  0.1496945 ,  1.12172819, -0.98386321],\n",
       "       [-0.01202819,  1.53204259, -0.66589598, -0.30513128,  0.57658379],\n",
       "       [ 1.40350355, -0.24309986,  1.36985114,  1.03076791,  1.86919924],\n",
       "       [-0.42543667,  2.25343967, -0.49676543,  1.5016558 , -0.23753185],\n",
       "       [-0.22020916, -1.02840562, -0.86001345, -0.07368052,  0.08071872],\n",
       "       [ 1.08949109, -1.60386451, -0.00419448,  0.83800591, -0.9220569 ],\n",
       "       [ 0.54723679,  0.4735684 ,  0.69097695, -0.08029041,  0.11850778]])"
      ]
     },
     "execution_count": 5,
     "metadata": {},
     "output_type": "execute_result"
    }
   ],
   "source": [
    "import numpy as np\n",
    "np.random.randn(10,5)"
   ]
  },
  {
   "cell_type": "code",
   "execution_count": 6,
   "metadata": {},
   "outputs": [
    {
     "data": {
      "text/plain": [
       "array([[ 78,  92,  97,  96,  56],\n",
       "       [ 78,  73,  91,  80,  59],\n",
       "       [ 89,  58,  70,  62,  77],\n",
       "       [ 50,  83, 100,  82,  96],\n",
       "       [ 54,  71,  75,  59,  79],\n",
       "       [ 63,  67,  79,  77,  68],\n",
       "       [ 98,  96,  71,  66,  94],\n",
       "       [ 63,  98,  67,  74,  59],\n",
       "       [ 77,  96,  61,  97,  98],\n",
       "       [ 63,  63,  60,  75,  69],\n",
       "       [ 50,  63,  98,  72,  52],\n",
       "       [ 99,  76,  66,  62,  87],\n",
       "       [ 71,  51,  87,  87,  90],\n",
       "       [ 86,  81,  86,  58,  99],\n",
       "       [ 97,  78,  75,  68,  87],\n",
       "       [ 72,  60,  85,  73,  80],\n",
       "       [ 75,  93,  68,  88,  56],\n",
       "       [ 55,  73,  50,  72,  51],\n",
       "       [ 80,  73,  88,  70,  90],\n",
       "       [ 91,  81,  97,  57,  70],\n",
       "       [ 84, 100,  71,  89,  76],\n",
       "       [ 71,  50,  74,  55,  65],\n",
       "       [ 79,  99,  80,  94,  75],\n",
       "       [ 95,  65, 100,  66,  59],\n",
       "       [ 61,  60,  61,  84,  80],\n",
       "       [ 68,  58,  83,  53,  95],\n",
       "       [ 97,  58,  87,  63,  82],\n",
       "       [ 51,  61,  51,  56,  88],\n",
       "       [ 62,  55,  98, 100,  55],\n",
       "       [ 75,  77,  99,  80,  50],\n",
       "       [ 55,  97,  77,  73,  51],\n",
       "       [ 81,  94,  67,  93,  99],\n",
       "       [ 88,  64,  60,  88,  58],\n",
       "       [ 92,  70,  77,  81,  66],\n",
       "       [ 63,  52,  74,  75,  78],\n",
       "       [ 92,  84,  88,  67,  73],\n",
       "       [ 67,  87,  92,  59,  50],\n",
       "       [ 87,  78,  77,  71,  58],\n",
       "       [ 57,  81,  86,  91,  86],\n",
       "       [ 93,  73,  98,  52,  82],\n",
       "       [ 85,  53,  60,  62,  99],\n",
       "       [ 98,  73,  85,  93,  92],\n",
       "       [ 93,  69,  76,  53,  77],\n",
       "       [ 72,  69,  54,  63,  92],\n",
       "       [ 79,  63,  68,  84,  86],\n",
       "       [ 56,  72,  53,  66,  90],\n",
       "       [ 84,  92,  55,  52,  53],\n",
       "       [ 63,  64,  98,  53,  88],\n",
       "       [ 75,  94,  61,  52,  97],\n",
       "       [ 63,  72,  95,  88,  84]])"
      ]
     },
     "execution_count": 6,
     "metadata": {},
     "output_type": "execute_result"
    }
   ],
   "source": [
    "scores = np.random.randint(50,101,size=(50,5))\n",
    "scores"
   ]
  },
  {
   "cell_type": "code",
   "execution_count": 15,
   "metadata": {},
   "outputs": [
    {
     "data": {
      "text/plain": [
       "array([[56, 72, 53, 66, 90],\n",
       "       [84, 92, 55, 52, 53],\n",
       "       [63, 64, 98, 53, 88],\n",
       "       [75, 94, 61, 52, 97],\n",
       "       [63, 72, 95, 88, 84]])"
      ]
     },
     "execution_count": 15,
     "metadata": {},
     "output_type": "execute_result"
    }
   ],
   "source": [
    "scores[0,:]\n",
    "scores[:5,:]\n",
    "scores[-5:,:]"
   ]
  },
  {
   "cell_type": "code",
   "execution_count": 11,
   "metadata": {},
   "outputs": [
    {
     "data": {
      "text/plain": [
       "array([78, 78, 89, 50, 54, 63, 98, 63, 77, 63, 50, 99, 71, 86, 97, 72, 75,\n",
       "       55, 80, 91, 84, 71, 79, 95, 61, 68, 97, 51, 62, 75, 55, 81, 88, 92,\n",
       "       63, 92, 67, 87, 57, 93, 85, 98, 93, 72, 79, 56, 84, 63, 75, 63])"
      ]
     },
     "execution_count": 11,
     "metadata": {},
     "output_type": "execute_result"
    }
   ],
   "source": [
    "scores[:,0]"
   ]
  },
  {
   "cell_type": "code",
   "execution_count": 12,
   "metadata": {},
   "outputs": [
    {
     "data": {
      "text/plain": [
       "array([ 92,  73,  58,  83,  71,  67,  96,  98,  96,  63,  63,  76,  51,\n",
       "        81,  78,  60,  93,  73,  73,  81, 100,  50,  99,  65,  60,  58,\n",
       "        58,  61,  55,  77,  97,  94,  64,  70,  52,  84,  87,  78,  81,\n",
       "        73,  53,  73,  69,  69,  63,  72,  92,  64,  94,  72])"
      ]
     },
     "execution_count": 12,
     "metadata": {},
     "output_type": "execute_result"
    }
   ],
   "source": [
    "scores[:,1]"
   ]
  },
  {
   "cell_type": "code",
   "execution_count": 14,
   "metadata": {},
   "outputs": [
    {
     "data": {
      "text/plain": [
       "array([419, 381, 356, 411, 338, 354, 425, 361, 429, 330, 335, 390, 386,\n",
       "       410, 405, 370, 380, 301, 401, 396, 420, 315, 427, 385, 346, 357,\n",
       "       387, 307, 370, 381, 353, 434, 358, 386, 342, 404, 355, 371, 401,\n",
       "       398, 359, 441, 368, 350, 380, 337, 336, 366, 379, 402])"
      ]
     },
     "execution_count": 14,
     "metadata": {},
     "output_type": "execute_result"
    }
   ],
   "source": [
    "total = scores[:,0] + scores[:,1] + scores[:,2] + scores[:,3] + scores[:,4]\n",
    "total"
   ]
  },
  {
   "cell_type": "code",
   "execution_count": 16,
   "metadata": {},
   "outputs": [
    {
     "data": {
      "text/plain": [
       "array([419, 381, 356, 411, 338, 354, 425, 361, 429, 330, 335, 390, 386,\n",
       "       410, 405, 370, 380, 301, 401, 396, 420, 315, 427, 385, 346, 357,\n",
       "       387, 307, 370, 381, 353, 434, 358, 386, 342, 404, 355, 371, 401,\n",
       "       398, 359, 441, 368, 350, 380, 337, 336, 366, 379, 402])"
      ]
     },
     "execution_count": 16,
     "metadata": {},
     "output_type": "execute_result"
    }
   ],
   "source": [
    "np.sum(scores,axis=1)"
   ]
  },
  {
   "cell_type": "code",
   "execution_count": 17,
   "metadata": {},
   "outputs": [
    {
     "data": {
      "text/plain": [
       "array([83.8, 76.2, 71.2, 82.2, 67.6, 70.8, 85. , 72.2, 85.8, 66. , 67. ,\n",
       "       78. , 77.2, 82. , 81. , 74. , 76. , 60.2, 80.2, 79.2, 84. , 63. ,\n",
       "       85.4, 77. , 69.2, 71.4, 77.4, 61.4, 74. , 76.2, 70.6, 86.8, 71.6,\n",
       "       77.2, 68.4, 80.8, 71. , 74.2, 80.2, 79.6, 71.8, 88.2, 73.6, 70. ,\n",
       "       76. , 67.4, 67.2, 73.2, 75.8, 80.4])"
      ]
     },
     "execution_count": 17,
     "metadata": {},
     "output_type": "execute_result"
    }
   ],
   "source": [
    "np.mean(scores,axis=1)"
   ]
  }
 ],
 "metadata": {
  "kernelspec": {
   "display_name": "Python 3",
   "language": "python",
   "name": "python3"
  },
  "language_info": {
   "codemirror_mode": {
    "name": "ipython",
    "version": 3
   },
   "file_extension": ".py",
   "mimetype": "text/x-python",
   "name": "python",
   "nbconvert_exporter": "python",
   "pygments_lexer": "ipython3",
   "version": "3.11.9"
  }
 },
 "nbformat": 4,
 "nbformat_minor": 2
}
