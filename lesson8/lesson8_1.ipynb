{
 "cells": [
  {
   "cell_type": "code",
   "execution_count": null,
   "metadata": {},
   "outputs": [],
   "source": [
    "def get_status_message(bmi: float) -> str:\\\n",
    "if bmi < 18.5:\\\n",
    "    return \\\"體重過輕\\n\"\n",
    "elif bmi < 24:\\n\"\n",
    "    \"        return \\\"正常範圍\\\"\\n\",\n",
    "    \"    elif bmi < 27:\\n\",\n",
    "    \"        return \\\"過重\\\"\\n\",\n",
    "    \"    elif bmi < 30:\\n\",\n",
    "    \"        return \\\"輕度肥胖\\\"\\n\",\n",
    "    \"    elif bmi < 35:\\n\",\n",
    "    \"        return \\\"中度肥胖\\\"\\n\",\n",
    "    \"    else:\\n\",\n",
    "    \"        return \\\"重度肥胖\\\"\\n\",\n",
    "    \"\\n\",\n",
    "    \"while True:\\n\",\n",
    "    \"    try:\\n\",\n",
    "    \"        name = input(\\\"請輸入姓名: \\\")\\n\",\n",
    "    \"        height = float(input('請輸入身高（cm）: '))\\n\",\n",
    "    \"        weight = float(input('請輸入體重（kg）: '))\\n\",\n",
    "    \"        bmi = weight / ((height * 0.01) ** 2)\\n\",\n",
    "    \"        grade = get_status_message(bmi)\\n\",\n",
    "    \"        print(f\\\"{name} 的 BMI 為 {bmi:.2f}, 為 {grade}\\\")\\n\",\n",
    "    \"    except ValueError:\\n\",\n",
    "    \"        print(\\\"格式錯誤，請重新輸入數據\\\")\\n\",\n",
    "    \"        continue\\n\",\n",
    "    \"\\n\",\n",
    "    \"    stuff = input(\\\"請問是否繼續輸入資料 ('q': 離開, 任意鍵: 繼續)? \\\")\\n\",\n",
    "    \"\\n\",\n",
    "    \"    if stuff == 'q':\\n\",\n",
    "    \"        break\\n\",\n",
    "    \"\\n\",\n",
    "    \"print(\\\"應用程式結束\\\")\""
   ]
  }
 ],
 "metadata": {
  "kernelspec": {
   "display_name": "Python 3",
   "language": "python",
   "name": "python3"
  },
  "language_info": {
   "name": "python",
   "version": "3.11.9"
  }
 },
 "nbformat": 4,
 "nbformat_minor": 2
}
