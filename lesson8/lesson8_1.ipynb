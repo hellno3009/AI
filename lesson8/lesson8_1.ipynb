{
 "cells": [
  {
   "cell_type": "code",
   "execution_count": null,
   "metadata": {},
   "outputs": [],
   "source": [
    "def get_status_message(bmi: float) -> str:\n",
    "    '''\n",
    "    #param bmi:傳入bmi值\n",
    "    #return:傳出bmi的狀態\n",
    "    \n",
    "    '''\n",
    "    if bmi < 18.5:\n",
    "        return \"體重過輕\"\n",
    "    elif bmi < 24:\n",
    "        return \"正常範圍\"\n",
    "    elif bmi < 27:\n",
    "        return \"過重\"\n",
    "    elif bmi < 30:\n",
    "        return \"輕度肥胖\"\n",
    "    elif bmi < 35:\n",
    "        return \"中度肥胖\"\n",
    "    else:\n",
    "        return \"重度肥胖\"\n",
    "\n",
    "while True:\n",
    "    try:\n",
    "        name = input(\"請輸入姓名: \")\n",
    "        height = float(input('請輸入身高（cm）: '))\n",
    "        weight = float(input('請輸入體重（kg）: '))\n",
    "        bmi = weight / ((height * 0.01) ** 2)\n",
    "        grade = get_status_message(bmi)\n",
    "        print(f\"{name} 的 BMI 為 {bmi:.2f}, 為 {grade}\")\n",
    "\n",
    "    except ValueError:\n",
    "        print(\"格式錯誤\")\n",
    "        continue\n",
    "\n",
    "    stuff = input(\"是否繼續輸入資料?(q: 離開,其他鍵:繼續)\")\n",
    "\n",
    "    if stuff == 'q':\n",
    "        break\n",
    "\n",
    "print(\"程式結束\")"
   ]
  },
  {
   "cell_type": "code",
   "execution_count": 2,
   "metadata": {},
   "outputs": [
    {
     "data": {
      "text/plain": [
       "'\\nxxxx\\nxxx\\nxx\\n'"
      ]
     },
     "metadata": {},
     "output_type": "display_data"
    },
    {
     "name": "stdout",
     "output_type": "stream",
     "text": [
      "\n",
      "xxxx\n",
      "xxx\n",
      "xx\n",
      "\n"
     ]
    }
   ],
   "source": [
    "multi_lines = \"\"\"\n",
    "xxxx\n",
    "xxx\n",
    "xx\n",
    "\"\"\"\n",
    "display(multi_lines)\n",
    "print(multi_lines)"
   ]
  },
  {
   "cell_type": "code",
   "execution_count": 4,
   "metadata": {},
   "outputs": [
    {
     "name": "stdout",
     "output_type": "stream",
     "text": [
      "(1, 2, 3, 'a', 'b', 'c', 3.5, 4.0)\n"
     ]
    }
   ],
   "source": [
    "#tuple:將多個值包起來\n",
    "# * :沒有限定的引數值呼叫\n",
    "# ** :沒有限定引數名稱呼叫\n",
    "def print_args(*args):\n",
    "    print(args)\n",
    "\n",
    "print_args(1,2,3,\"a\",\"b\",\"c\",3.5,4.0)"
   ]
  },
  {
   "cell_type": "code",
   "execution_count": 6,
   "metadata": {},
   "outputs": [
    {
     "name": "stdout",
     "output_type": "stream",
     "text": [
      "{'tw': 'taiwan', 'jp': 'japan'}\n"
     ]
    }
   ],
   "source": [
    "def print_kwargs(**kwargs):\n",
    "    print(kwargs)\n",
    "print_kwargs(tw=\"taiwan\",jp=\"japan\")"
   ]
  }
 ],
 "metadata": {
  "kernelspec": {
   "display_name": "Python 3",
   "language": "python",
   "name": "python3"
  },
  "language_info": {
   "codemirror_mode": {
    "name": "ipython",
    "version": 3
   },
   "file_extension": ".py",
   "mimetype": "text/x-python",
   "name": "python",
   "nbconvert_exporter": "python",
   "pygments_lexer": "ipython3",
   "version": "3.11.9"
  }
 },
 "nbformat": 4,
 "nbformat_minor": 2
}
