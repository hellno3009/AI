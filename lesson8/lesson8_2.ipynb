{
 "cells": [
  {
   "cell_type": "code",
   "execution_count": null,
   "metadata": {},
   "outputs": [],
   "source": [
    "class Person():\n",
    "    def __init__(self,name:str):\n",
    "        self.name = name\n",
    "p1 = Person(name = \"robert\")\n",
    "print(p1.name)\n",
    "p2 = Person(name = \"周宥杰\")\n",
    "print(p2.name)"
   ]
  },
  {
   "cell_type": "code",
   "execution_count": null,
   "metadata": {},
   "outputs": [],
   "source": [
    "class Person():\n",
    "    def __init__(self,name:str,c=int,e=int):\n",
    "        self.name = name\n",
    "        self.chinese = c\n",
    "        self.english = e\n",
    "    def sum(self)->str:\n",
    "        return self.chinese + self.english\n",
    "    def average(self)->float:\n",
    "        return self.sum()/ 2.0\n",
    "    def desciption(self)->str:\n",
    "        return f\"我的名字叫{self.name}\\n國文分數{self.chinese}\\n英文分數{self.english}\\n我的總分{self.sum()}\\n我的平均{self.average()}\"\n",
    "p1 = Person(name = \"robert\",e=65,c=77)\n",
    "print(p1.desciption())\n",
    "p2 = Person(\"周宥杰\",34,66)\n",
    "print(p2.desciption())"
   ]
  },
  {
   "cell_type": "code",
   "execution_count": 34,
   "metadata": {},
   "outputs": [
    {
     "ename": "TypeError",
     "evalue": "BMI.__init__() got an unexpected keyword argument 'name'",
     "output_type": "error",
     "traceback": [
      "\u001b[0;31m---------------------------------------------------------------------------\u001b[0m",
      "\u001b[0;31mTypeError\u001b[0m                                 Traceback (most recent call last)",
      "Cell \u001b[0;32mIn[34], line 33\u001b[0m\n\u001b[1;32m     29\u001b[0m     height \u001b[38;5;241m=\u001b[39m \u001b[38;5;28mfloat\u001b[39m(\u001b[38;5;28minput\u001b[39m(\u001b[38;5;124m'\u001b[39m\u001b[38;5;124m請輸入身高（cm）: \u001b[39m\u001b[38;5;124m'\u001b[39m))\n\u001b[1;32m     30\u001b[0m     weight \u001b[38;5;241m=\u001b[39m \u001b[38;5;28mfloat\u001b[39m(\u001b[38;5;28minput\u001b[39m(\u001b[38;5;124m'\u001b[39m\u001b[38;5;124m請輸入體重（kg）: \u001b[39m\u001b[38;5;124m'\u001b[39m))\n\u001b[0;32m---> 33\u001b[0m     Mybmi \u001b[38;5;241m=\u001b[39m \u001b[43mBMI\u001b[49m\u001b[43m(\u001b[49m\u001b[43mname\u001b[49m\u001b[38;5;241;43m=\u001b[39;49m\u001b[43mname\u001b[49m\u001b[43m,\u001b[49m\u001b[43m \u001b[49m\u001b[43mheight\u001b[49m\u001b[38;5;241;43m=\u001b[39;49m\u001b[43mheight\u001b[49m\u001b[43m,\u001b[49m\u001b[43m \u001b[49m\u001b[43mweight\u001b[49m\u001b[38;5;241;43m=\u001b[39;49m\u001b[43mweight\u001b[49m\u001b[43m)\u001b[49m\n\u001b[1;32m     34\u001b[0m     \u001b[38;5;28mprint\u001b[39m(Mybmi\u001b[38;5;241m.\u001b[39mresult())\n\u001b[1;32m     35\u001b[0m \u001b[38;5;28;01mexcept\u001b[39;00m \u001b[38;5;167;01mValueError\u001b[39;00m:\n",
      "\u001b[0;31mTypeError\u001b[0m: BMI.__init__() got an unexpected keyword argument 'name'"
     ]
    }
   ],
   "source": [
    "\n",
    "class BMI():\n",
    "    def __init__(self,n:str,h:float,w:float):\n",
    "        self.name = name\n",
    "        self.height = height\n",
    "        self.weight = weight\n",
    "        \n",
    "    def getname(self) -> str:\n",
    "        return self.name\n",
    "    def getbmi(self) -> float:\n",
    "        return self.weight / ((self.height * 0.01) ** 2)\n",
    "    def get_status_message(bmi: float) -> str:\n",
    "        if bmi < 18.5:\n",
    "            return \"體重過輕\"\n",
    "        elif bmi < 24:\n",
    "            return \"正常範圍\"\n",
    "        elif bmi < 27:\n",
    "            return \"過重\"\n",
    "        elif bmi < 30:\n",
    "            return \"輕度肥胖\"\n",
    "        elif bmi < 35:\n",
    "            return \"中度肥胖\"\n",
    "        else:\n",
    "            return \"重度肥胖\"\n",
    "    def result(self) -> str:\n",
    "        return f\"{self.name()} 的 BMI 為 {self.getbmi()}, 為 {self.get_status_message()}\"\n",
    "\n",
    "while True:\n",
    "    try:\n",
    "        name = input(\"請輸入姓名: \")\n",
    "        height = float(input('請輸入身高(cm): '))\n",
    "        weight = float(input('請輸入體重(kg): '))\n",
    "\n",
    "\n",
    "        Mybmi = BMI(name=name, height=height, weight=weight)\n",
    "        print(Mybmi.result())\n",
    "    except ValueError:\n",
    "        print(\"格式錯誤\")\n",
    "        continue\n",
    "\n",
    "    stuff = input(\"是否繼續輸入資料?(q: 離開,其他鍵:繼續)\")\n",
    "\n",
    "    if stuff == 'q':\n",
    "        break\n",
    "\n",
    "print(\"程式結束\")"
   ]
  },
  {
   "cell_type": "code",
   "execution_count": 35,
   "metadata": {},
   "outputs": [
    {
     "name": "stdout",
     "output_type": "stream",
     "text": [
      "123 的 BMI 為 15.20, 為 體重過輕\n",
      "程式結束\n"
     ]
    }
   ],
   "source": [
    "class BMI():\n",
    "    def __init__(self, name:str, height:float, weight:float):\n",
    "        self.name = name\n",
    "        self.height = height\n",
    "        self.weight = weight\n",
    "\n",
    "    def getname(self) -> str:\n",
    "        return self.name\n",
    "\n",
    "    def getbmi(self) -> float:\n",
    "        return self.weight / ((self.height * 0.01) ** 2)\n",
    "\n",
    "    def get_status_message(self, bmi: float) -> str:\n",
    "        if bmi < 18.5:\n",
    "            return \"體重過輕\"\n",
    "        elif bmi < 24:\n",
    "            return \"正常範圍\"\n",
    "        elif bmi < 27:\n",
    "            return \"過重\"\n",
    "        elif bmi < 30:\n",
    "            return \"輕度肥胖\"\n",
    "        elif bmi < 35:\n",
    "            return \"中度肥胖\"\n",
    "        else:\n",
    "            return \"重度肥胖\"\n",
    "\n",
    "    def result(self) -> str:\n",
    "        bmi = self.getbmi()\n",
    "        return f\"{self.getname()} 的 BMI 為 {bmi:.2f}, 為 {self.get_status_message(bmi)}\"\n",
    "\n",
    "while True:\n",
    "    try:\n",
    "        name = input(\"請輸入姓名: \")\n",
    "        height = float(input('請輸入身高(cm): '))\n",
    "        weight = float(input('請輸入體重(kg): '))\n",
    "\n",
    "        Mybmi = BMI(name=name, height=height, weight=weight)\n",
    "        print(bmi.result())\n",
    "    except ValueError:\n",
    "        print(\"格式錯誤\")\n",
    "        continue\n",
    "\n",
    "    stuff = input(\"是否繼續輸入資料?(q: 離開,其他鍵:繼續)\")\n",
    "\n",
    "    if stuff == 'q':\n",
    "        break\n",
    "\n",
    "print(\"程式結束\")\n"
   ]
  }
 ],
 "metadata": {
  "kernelspec": {
   "display_name": "Python 3",
   "language": "python",
   "name": "python3"
  },
  "language_info": {
   "codemirror_mode": {
    "name": "ipython",
    "version": 3
   },
   "file_extension": ".py",
   "mimetype": "text/x-python",
   "name": "python",
   "nbconvert_exporter": "python",
   "pygments_lexer": "ipython3",
   "version": "3.11.9"
  }
 },
 "nbformat": 4,
 "nbformat_minor": 2
}
