{
 "cells": [
  {
   "cell_type": "code",
   "execution_count": null,
   "metadata": {},
   "outputs": [],
   "source": [
    "name = input(\"輸入姓名\")\n",
    "H = float(input(\"輸入身高(cm)\"))\n",
    "kg = float(input(\"輸入體重(kg)\"))\n",
    "BMI = kg / ((H*0.01)**2)\n",
    "print(f\"你的BMI是{round(BMI,2)}\")"
   ]
  },
  {
   "cell_type": "code",
   "execution_count": 1,
   "metadata": {},
   "outputs": [
    {
     "name": "stdout",
     "output_type": "stream",
     "text": [
      "123的bmi為87.24965298433473,為重度肥胖\n",
      "應用程式結束\n"
     ]
    }
   ],
   "source": [
    "try:\n",
    "    name=str(input(\"請輸入姓名\"))\n",
    "    height=float(input('請輸入身高'))\n",
    "    weight=float(input('請輸入體重'))\n",
    "    bmi=weight/(((height*0.01))**2)\n",
    "    if bmi<18.5:\n",
    "        grade=\"體重過輕\"\n",
    "    elif bmi<24:\n",
    "        grade=\"正常範圍\"\n",
    "    elif bmi<27:\n",
    "        grade=\"過重\"\n",
    "    elif bmi<30:\n",
    "        grade=\"輕度肥胖\"\n",
    "    elif bmi<35:\n",
    "        grade=\"中度肥胖\"\n",
    "    elif bmi>=35:\n",
    "        grade=\"重度肥胖\"\n",
    "    print(f\"{name}的bmi為{bmi},為{grade}\")\n",
    "except ValueError:\n",
    "    print(\"格式錯誤\")\n",
    "else:\n",
    "    print(\"應用程式結束\")"
   ]
  },
  {
   "cell_type": "code",
   "execution_count": null,
   "metadata": {},
   "outputs": [],
   "source": [
    "age = int(input(\"輸入年齡\"))\n",
    "if age >= 18:\n",
    "    print(\"可以考照\")\n",
    "else:\n",
    "    print(\"不可以考照\")\n"
   ]
  },
  {
   "cell_type": "code",
   "execution_count": 6,
   "metadata": {},
   "outputs": [
    {
     "name": "stdout",
     "output_type": "stream",
     "text": [
      "分數是:279\n"
     ]
    }
   ],
   "source": [
    "import math\n",
    "score = float(input(\"輸入分數(最大300):\"))\n",
    "is_add = input(\"是否符合加分條件?(y,n)\")\n",
    "\n",
    "if is_add == \"y\":\n",
    "    score *= 1.05\n",
    "    score = math.ceil(score)\n",
    "    \n",
    "print(f\"分數是:{score}\")"
   ]
  },
  {
   "cell_type": "code",
   "execution_count": 9,
   "metadata": {},
   "outputs": [
    {
     "name": "stdout",
     "output_type": "stream",
     "text": [
      "分數是:300\n",
      "程式結束\n"
     ]
    }
   ],
   "source": [
    "import math\n",
    "try:\n",
    "    score = float(input(\"輸入分數(最大300):\"))\n",
    "except ValueError:\n",
    "    print(\"格式錯誤\")\n",
    "\n",
    "else:\n",
    "    is_add = input(\"是否符合加分條件?(y,n)\")\n",
    "\n",
    "    if is_add == \"y\":\n",
    "        score *= 1.05\n",
    "        score = math.ceil(score)\n",
    "        if score > 300:\n",
    "            score = 300\n",
    "    \n",
    "    print(f\"分數是:{score}\")\n",
    "print(\"程式結束\")"
   ]
  },
  {
   "cell_type": "code",
   "execution_count": 13,
   "metadata": {},
   "outputs": [
    {
     "name": "stdout",
     "output_type": "stream",
     "text": [
      "不知名錯誤\n",
      "程式結束\n"
     ]
    }
   ],
   "source": [
    "import math\n",
    "try:\n",
    "    score = float(input(\"輸入分數(最大300):\"))\n",
    "    if score < 0:\n",
    "        raise NameError\n",
    "    if score > 300:\n",
    "        raise NameError\n",
    "except ValueError:\n",
    "    print(\"格式錯誤\")\n",
    "except Exception:\n",
    "    print(\"不知名錯誤\")\n",
    "else:\n",
    "    is_add = input(\"是否符合加分條件?(y,n)\")\n",
    "\n",
    "    if is_add == \"y\":\n",
    "        score *= 1.05\n",
    "        score = math.ceil(score)\n",
    "        if score > 300:\n",
    "            score = 300\n",
    "    \n",
    "    print(f\"分數是:{score}\")\n",
    "print(\"程式結束\")"
   ]
  },
  {
   "cell_type": "code",
   "execution_count": 2,
   "metadata": {},
   "outputs": [
    {
     "name": "stdout",
     "output_type": "stream",
     "text": [
      "學生分數評級為fail\n"
     ]
    }
   ],
   "source": [
    "score = int(input(\"輸入分數\"))\n",
    "if score >= 90:\n",
    "    grade = \"great\"\n",
    "elif score >= 80:\n",
    "    grade = \"A\"\n",
    "elif score >= 70:\n",
    "    grade = \"B\"\n",
    "elif score >= 60:\n",
    "    grade = \"C\"\n",
    "else:\n",
    "    grade = \"fail\"\n",
    "\n",
    "print(f\"學生分數評級為{grade}\")\n"
   ]
  }
 ],
 "metadata": {
  "kernelspec": {
   "display_name": "Python 3",
   "language": "python",
   "name": "python3"
  },
  "language_info": {
   "codemirror_mode": {
    "name": "ipython",
    "version": 3
   },
   "file_extension": ".py",
   "mimetype": "text/x-python",
   "name": "python",
   "nbconvert_exporter": "python",
   "pygments_lexer": "ipython3",
   "version": "3.11.9"
  }
 },
 "nbformat": 4,
 "nbformat_minor": 2
}
