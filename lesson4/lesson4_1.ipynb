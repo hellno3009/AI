{
 "cells": [
  {
   "cell_type": "code",
   "execution_count": null,
   "metadata": {},
   "outputs": [],
   "source": [
    "name = input(\"輸入姓名\")\n",
    "H = float(input(\"輸入身高(cm)\"))\n",
    "kg = float(input(\"輸入體重(kg)\"))\n",
    "BMI = kg / ((H*0.01)**2)\n",
    "print(f\"你的BMI是{round(BMI,2)}\")"
   ]
  },
  {
   "cell_type": "code",
   "execution_count": 1,
   "metadata": {},
   "outputs": [
    {
     "name": "stdout",
     "output_type": "stream",
     "text": [
      "123的bmi為87.24965298433473,為重度肥胖\n",
      "應用程式結束\n"
     ]
    }
   ],
   "source": [
    "try:\n",
    "    name=str(input(\"請輸入姓名\"))\n",
    "    height=float(input('請輸入身高'))\n",
    "    weight=float(input('請輸入體重'))\n",
    "    bmi=weight/(((height*0.01))**2)\n",
    "    if bmi<18.5:\n",
    "        grade=\"體重過輕\"\n",
    "    elif bmi<24:\n",
    "        grade=\"正常範圍\"\n",
    "    elif bmi<27:\n",
    "        grade=\"過重\"\n",
    "    elif bmi<30:\n",
    "        grade=\"輕度肥胖\"\n",
    "    elif bmi<35:\n",
    "        grade=\"中度肥胖\"\n",
    "    elif bmi>=35:\n",
    "        grade=\"重度肥胖\"\n",
    "    print(f\"{name}的bmi為{bmi},為{grade}\")\n",
    "except ValueError:\n",
    "    print(\"格式錯誤\")\n",
    "else:\n",
    "    print(\"應用程式結束\")"
   ]
  }
 ],
 "metadata": {
  "kernelspec": {
   "display_name": "Python 3",
   "language": "python",
   "name": "python3"
  },
  "language_info": {
   "codemirror_mode": {
    "name": "ipython",
    "version": 3
   },
   "file_extension": ".py",
   "mimetype": "text/x-python",
   "name": "python",
   "nbconvert_exporter": "python",
   "pygments_lexer": "ipython3",
   "version": "3.11.9"
  }
 },
 "nbformat": 4,
 "nbformat_minor": 2
}
