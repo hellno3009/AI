{
 "cells": [
  {
   "cell_type": "code",
   "execution_count": null,
   "metadata": {},
   "outputs": [],
   "source": [
    "print(\"輸入q離開\")\n",
    "while True:\n",
    "    try:\n",
    "        name_input = input(\"請輸入姓名:\")\n",
    "        if name_input.lower() == 'q':\n",
    "            break\n",
    "        name = str(name_input)\n",
    "        \n",
    "        height_input = input(\"請輸入身高(cm):\")\n",
    "        if height_input.lower() == 'q':\n",
    "            break\n",
    "        height = float(height_input)\n",
    "        \n",
    "        weight_input = input(\"請輸入體重(kg):\")\n",
    "        if weight_input.lower() == 'q':\n",
    "            break\n",
    "        weight = float(weight_input)\n",
    "        \n",
    "        bmi = weight / (height * 0.01) ** 2\n",
    "        if bmi < 18.5:\n",
    "            grade = \"體重過輕\"\n",
    "        elif bmi < 24:\n",
    "            grade = \"正常範圍\"\n",
    "        elif bmi < 27:\n",
    "            grade = \"過重\"\n",
    "        elif bmi < 30:\n",
    "            grade = \"輕度肥胖\"\n",
    "        elif bmi < 35:\n",
    "            grade = \"中度肥胖\"\n",
    "        else:\n",
    "            grade = \"重度肥胖\"\n",
    "        print(f\"{name} 的 BMI 為 {bmi:.2f}, 屬於 {grade}\")\n",
    "    except ValueError:\n",
    "        print(\"格式錯誤，請輸入正確的數字。\")\n",
    "print(\"應用結束\")"
   ]
  },
  {
   "cell_type": "code",
   "execution_count": 1,
   "metadata": {},
   "outputs": [
    {
     "data": {
      "text/plain": [
       "364"
      ]
     },
     "execution_count": 1,
     "metadata": {},
     "output_type": "execute_result"
    }
   ],
   "source": [
    "import random\n",
    "random.randint(1,1000)"
   ]
  },
  {
   "cell_type": "code",
   "execution_count": 2,
   "metadata": {},
   "outputs": [
    {
     "name": "stdout",
     "output_type": "stream",
     "text": [
      "輸入整數Number must be at maximum 100.\n",
      "輸入整數'break' is not an integer.\n",
      "輸入整數"
     ]
    }
   ],
   "source": [
    "import pyinputplus as pypi\n",
    "num = pypi.inputInt(\"輸入整數\",min=1,max=100)\n",
    "print(num)\n"
   ]
  },
  {
   "cell_type": "code",
   "execution_count": null,
   "metadata": {},
   "outputs": [],
   "source": []
  },
  {
   "cell_type": "code",
   "execution_count": 1,
   "metadata": {},
   "outputs": [
    {
     "name": "stdout",
     "output_type": "stream",
     "text": [
      "89\n",
      "=================猜數字===================\n",
      "\n",
      "猜數字範圍1到100:Blank values are not allowed.\n",
      "猜數字範圍1到100:大一點\n",
      "你猜了第1次\n",
      "猜數字範圍9到100:猜中了答案是89\n",
      "猜了2次\n",
      "還要繼續嗎?(yes/no)'89' is not a valid yes/no response.\n",
      "還要繼續嗎?(yes/no)'89' is not a valid yes/no response.\n",
      "還要繼續嗎?(yes/no)程式結束\n"
     ]
    }
   ],
   "source": [
    "import random\n",
    "import pyinputplus as pypi\n",
    "while True:\n",
    "    min = 1\n",
    "    max = 100\n",
    "    count = 0\n",
    "    target = random.randint(1,100)\n",
    "    print(target)\n",
    "    print(\"=================猜數字===================\\n\")\n",
    "    while True:\n",
    "        count += 1\n",
    "        keyin = pypi.inputInt(f\"猜數字範圍{min}到{max}:\",min=min,max=max)\n",
    "        if keyin == target:\n",
    "            print(f\"猜中了答案是{keyin}\")\n",
    "            print(f\"猜了{count}次\")\n",
    "            break\n",
    "        elif keyin > target:\n",
    "            print(\"小一點\")\n",
    "            max = keyin-1\n",
    "        elif keyin < target:\n",
    "            print(\"大一點\")\n",
    "            min = keyin+1\n",
    "        print(f\"你猜了第{count}次\")\n",
    "    is_play = pypi.inputYesNo(\"還要繼續嗎?(yes/no)\")\n",
    "    if is_play == \"no\":\n",
    "        break\n",
    "print(\"程式結束\")"
   ]
  },
  {
   "cell_type": "code",
   "execution_count": 2,
   "metadata": {},
   "outputs": [
    {
     "ename": "NameError",
     "evalue": "name 'play_game' is not defined",
     "output_type": "error",
     "traceback": [
      "\u001b[0;31m---------------------------------------------------------------------------\u001b[0m",
      "\u001b[0;31mNameError\u001b[0m                                 Traceback (most recent call last)",
      "Cell \u001b[0;32mIn[2], line 4\u001b[0m\n\u001b[1;32m      2\u001b[0m \u001b[38;5;28;01mimport\u001b[39;00m \u001b[38;5;21;01mpyinputplus\u001b[39;00m \u001b[38;5;28;01mas\u001b[39;00m \u001b[38;5;21;01mpypi\u001b[39;00m\n\u001b[1;32m      3\u001b[0m \u001b[38;5;28;01mwhile\u001b[39;00m \u001b[38;5;28;01mTrue\u001b[39;00m:\n\u001b[0;32m----> 4\u001b[0m     \u001b[43mplay_game\u001b[49m()\n\u001b[1;32m      5\u001b[0m     is_play \u001b[38;5;241m=\u001b[39m pypi\u001b[38;5;241m.\u001b[39minputYesNo(\u001b[38;5;124m\"\u001b[39m\u001b[38;5;124m還要繼續嗎?(yes/no)\u001b[39m\u001b[38;5;124m\"\u001b[39m)\n\u001b[1;32m      6\u001b[0m     \u001b[38;5;28;01mif\u001b[39;00m is_play \u001b[38;5;241m==\u001b[39m \u001b[38;5;124m\"\u001b[39m\u001b[38;5;124mno\u001b[39m\u001b[38;5;124m\"\u001b[39m:\n",
      "\u001b[0;31mNameError\u001b[0m: name 'play_game' is not defined"
     ]
    }
   ],
   "source": [
    "import random\n",
    "import pyinputplus as pypi\n",
    "while True:\n",
    "    play_game()\n",
    "    is_play = pypi.inputYesNo(\"還要繼續嗎?(yes/no)\")\n",
    "    if is_play == \"no\":\n",
    "        break\n",
    "print(\"程式結束\")"
   ]
  }
 ],
 "metadata": {
  "kernelspec": {
   "display_name": "Python 3",
   "language": "python",
   "name": "python3"
  },
  "language_info": {
   "codemirror_mode": {
    "name": "ipython",
    "version": 3
   },
   "file_extension": ".py",
   "mimetype": "text/x-python",
   "name": "python",
   "nbconvert_exporter": "python",
   "pygments_lexer": "ipython3",
   "version": "3.11.9"
  }
 },
 "nbformat": 4,
 "nbformat_minor": 2
}
