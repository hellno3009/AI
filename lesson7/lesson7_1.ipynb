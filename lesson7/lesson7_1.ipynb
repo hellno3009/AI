{
 "cells": [
  {
   "cell_type": "code",
   "execution_count": null,
   "metadata": {},
   "outputs": [],
   "source": [
    "print(\"輸入q離開\")\n",
    "while True:\n",
    "    try:\n",
    "        name_input = input(\"請輸入姓名:\")\n",
    "        if name_input.lower() == 'q':\n",
    "            break\n",
    "        name = str(name_input)\n",
    "        \n",
    "        height_input = input(\"請輸入身高(cm):\")\n",
    "        if height_input.lower() == 'q':\n",
    "            break\n",
    "        height = float(height_input)\n",
    "        \n",
    "        weight_input = input(\"請輸入體重(kg):\")\n",
    "        if weight_input.lower() == 'q':\n",
    "            break\n",
    "        weight = float(weight_input)\n",
    "        \n",
    "        bmi = weight / (height * 0.01) ** 2\n",
    "        if bmi < 18.5:\n",
    "            grade = \"體重過輕\"\n",
    "        elif bmi < 24:\n",
    "            grade = \"正常範圍\"\n",
    "        elif bmi < 27:\n",
    "            grade = \"過重\"\n",
    "        elif bmi < 30:\n",
    "            grade = \"輕度肥胖\"\n",
    "        elif bmi < 35:\n",
    "            grade = \"中度肥胖\"\n",
    "        else:\n",
    "            grade = \"重度肥胖\"\n",
    "        print(f\"{name} 的 BMI 為 {bmi:.2f}, 屬於 {grade}\")\n",
    "    except ValueError:\n",
    "        print(\"格式錯誤，請輸入正確的數字。\")\n",
    "print(\"應用結束\")"
   ]
  }
 ],
 "metadata": {
  "kernelspec": {
   "display_name": "Python 3",
   "language": "python",
   "name": "python3"
  },
  "language_info": {
   "name": "python",
   "version": "3.11.9"
  }
 },
 "nbformat": 4,
 "nbformat_minor": 2
}
