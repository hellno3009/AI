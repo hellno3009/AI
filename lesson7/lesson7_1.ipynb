{
 "cells": [
  {
   "cell_type": "code",
   "execution_count": null,
   "metadata": {},
   "outputs": [],
   "source": [
    "print(\"輸入q離開\")\n",
    "while True:\n",
    "    try:\n",
    "        name_input = input(\"請輸入姓名:\")\n",
    "        if name_input.lower() == 'q':\n",
    "            break\n",
    "        name = str(name_input)\n",
    "        \n",
    "        height_input = input(\"請輸入身高(cm):\")\n",
    "        if height_input.lower() == 'q':\n",
    "            break\n",
    "        height = float(height_input)\n",
    "        \n",
    "        weight_input = input(\"請輸入體重(kg):\")\n",
    "        if weight_input.lower() == 'q':\n",
    "            break\n",
    "        weight = float(weight_input)\n",
    "        \n",
    "        bmi = weight / (height * 0.01) ** 2\n",
    "        if bmi < 18.5:\n",
    "            grade = \"體重過輕\"\n",
    "        elif bmi < 24:\n",
    "            grade = \"正常範圍\"\n",
    "        elif bmi < 27:\n",
    "            grade = \"過重\"\n",
    "        elif bmi < 30:\n",
    "            grade = \"輕度肥胖\"\n",
    "        elif bmi < 35:\n",
    "            grade = \"中度肥胖\"\n",
    "        else:\n",
    "            grade = \"重度肥胖\"\n",
    "        print(f\"{name} 的 BMI 為 {bmi:.2f}, 屬於 {grade}\")\n",
    "    except ValueError:\n",
    "        print(\"格式錯誤，請輸入正確的數字。\")\n",
    "print(\"應用結束\")"
   ]
  },
  {
   "cell_type": "code",
   "execution_count": null,
   "metadata": {},
   "outputs": [],
   "source": [
    "import random\n",
    "random.randint(1,1000)"
   ]
  },
  {
   "cell_type": "code",
   "execution_count": null,
   "metadata": {},
   "outputs": [],
   "source": [
    "import pyinputplus as pypi\n",
    "num = pypi.inputInt(\"輸入整數\",min=1,max=100)\n",
    "print(num)\n"
   ]
  },
  {
   "cell_type": "code",
   "execution_count": null,
   "metadata": {},
   "outputs": [],
   "source": []
  },
  {
   "cell_type": "code",
   "execution_count": null,
   "metadata": {},
   "outputs": [],
   "source": [
    "import random\n",
    "import pyinputplus as pypi\n",
    "while True:\n",
    "    min = 1\n",
    "    max = 100\n",
    "    count = 0\n",
    "    target = random.randint(1,100)\n",
    "    print(target)\n",
    "    print(\"=================猜數字===================\\n\")\n",
    "    while True:\n",
    "        count += 1\n",
    "        keyin = pypi.inputInt(f\"猜數字範圍{min}到{max}:\",min=min,max=max)\n",
    "        if keyin == target:\n",
    "            print(f\"猜中了答案是{keyin}\")\n",
    "            print(f\"猜了{count}次\")\n",
    "            break\n",
    "        elif keyin > target:\n",
    "            print(\"小一點\")\n",
    "            max = keyin-1\n",
    "        elif keyin < target:\n",
    "            print(\"大一點\")\n",
    "            min = keyin+1\n",
    "        print(f\"你猜了第{count}次\")\n",
    "    is_play = pypi.inputYesNo(\"還要繼續嗎?(yes/no)\")\n",
    "    if is_play == \"no\":\n",
    "        break\n",
    "print(\"程式結束\")"
   ]
  },
  {
   "cell_type": "code",
   "execution_count": null,
   "metadata": {},
   "outputs": [],
   "source": [
    "import random\n",
    "import pyinputplus as pypi\n",
    "while True:\n",
    "    play_game()\n",
    "    is_play = pypi.inputYesNo(\"還要繼續嗎?(yes/no)\")\n",
    "    if is_play == \"no\":\n",
    "        break\n",
    "print(\"程式結束\")"
   ]
  },
  {
   "cell_type": "code",
   "execution_count": 4,
   "metadata": {},
   "outputs": [
    {
     "name": "stdout",
     "output_type": "stream",
     "text": [
      "18\n",
      "80\n"
     ]
    }
   ],
   "source": [
    "def addition(a:int,b:int)->int:\n",
    "    return a + b\n",
    "def multiply(a:int,c:int)->int:\n",
    "    return a * c\n",
    "print(addition(8,10))\n",
    "print(multiply(c=10,a=8))"
   ]
  }
 ],
 "metadata": {
  "kernelspec": {
   "display_name": "Python 3",
   "language": "python",
   "name": "python3"
  },
  "language_info": {
   "codemirror_mode": {
    "name": "ipython",
    "version": 3
   },
   "file_extension": ".py",
   "mimetype": "text/x-python",
   "name": "python",
   "nbconvert_exporter": "python",
   "pygments_lexer": "ipython3",
   "version": "3.11.9"
  }
 },
 "nbformat": 4,
 "nbformat_minor": 2
}
