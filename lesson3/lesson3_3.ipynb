{
 "cells": [
  {
   "cell_type": "code",
   "execution_count": 6,
   "metadata": {},
   "outputs": [
    {
     "name": "stdout",
     "output_type": "stream",
     "text": [
      "66.77臺斤等於40.062公斤\n",
      "66.77臺斤=40.062公斤\n"
     ]
    }
   ],
   "source": [
    "twkg = float ( input (\"請輸入台斤:\") ) \n",
    "kg = twkg * 0.6\n",
    "print(str(twkg) + \"臺斤\" + \"等於\" + str(kg) + \"公斤\")\n",
    "print(f\"{twkg}臺斤={kg}公斤\")#字串插補"
   ]
  }
 ],
 "metadata": {
  "kernelspec": {
   "display_name": "Python 3",
   "language": "python",
   "name": "python3"
  },
  "language_info": {
   "codemirror_mode": {
    "name": "ipython",
    "version": 3
   },
   "file_extension": ".py",
   "mimetype": "text/x-python",
   "name": "python",
   "nbconvert_exporter": "python",
   "pygments_lexer": "ipython3",
   "version": "3.11.9"
  }
 },
 "nbformat": 4,
 "nbformat_minor": 2
}
