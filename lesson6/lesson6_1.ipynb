{
 "cells": [
  {
   "cell_type": "code",
   "execution_count": null,
   "metadata": {},
   "outputs": [],
   "source": [
    "#for ... in range(...,...,...):\n",
    "#知道次數的迴圈\n",
    "#while bool:\n",
    "#不知道次數的迴圈\n"
   ]
  },
  {
   "cell_type": "code",
   "execution_count": 1,
   "metadata": {},
   "outputs": [
    {
     "name": "stdout",
     "output_type": "stream",
     "text": [
      "1\n",
      "2\n",
      "3\n",
      "4\n",
      "5\n",
      "6\n",
      "7\n",
      "8\n",
      "9\n",
      "10\n",
      "total=55\n",
      "程式結束\n"
     ]
    }
   ],
   "source": [
    "total = 0\n",
    "i = 1\n",
    "while i<=10:\n",
    "    print(i)\n",
    "    total += i\n",
    "    i += 1\n",
    "print(f\"total={total}\\n程式結束\")"
   ]
  },
  {
   "cell_type": "code",
   "execution_count": 4,
   "metadata": {},
   "outputs": [
    {
     "name": "stdout",
     "output_type": "stream",
     "text": [
      "你存了2,共1243625元\n"
     ]
    }
   ],
   "source": [
    "deposit = 0\n",
    "month = 0\n",
    "while deposit<30000:\n",
    "    month += 1\n",
    "    money = int(input(f\"輸入{month}月存款\"))\n",
    "    deposit += money\n",
    "print(f\"你存了{month}個月,共{deposit}元\")"
   ]
  },
  {
   "cell_type": "code",
   "execution_count": 5,
   "metadata": {},
   "outputs": [
    {
     "name": "stdout",
     "output_type": "stream",
     "text": [
      "Abc\n",
      "應用結束\n"
     ]
    }
   ],
   "source": [
    "stuff = input(\"輸入小寫英文字[案q離開]\")\n",
    "while not stuff == \"q\":\n",
    "    print(stuff.capitalize())\n",
    "    stuff = input(\"輸入小寫英文字[案q離開]\")\n",
    "print(\"應用結束\")"
   ]
  },
  {
   "cell_type": "code",
   "execution_count": null,
   "metadata": {},
   "outputs": [],
   "source": []
  },
  {
   "cell_type": "code",
   "execution_count": 1,
   "metadata": {},
   "outputs": [
    {
     "name": "stdout",
     "output_type": "stream",
     "text": [
      "應用結束\n"
     ]
    }
   ],
   "source": [
    "while True:\n",
    "    stuff = input(\"輸入小寫英文字[案q離開]\")\n",
    "    if stuff == \"q\":\n",
    "        break\n",
    "    #print(stuff.capitalize())\n",
    "print(\"應用結束\")"
   ]
  },
  {
   "cell_type": "code",
   "execution_count": 2,
   "metadata": {},
   "outputs": [
    {
     "name": "stdout",
     "output_type": "stream",
     "text": [
      "格式錯誤\n",
      "格式錯誤\n",
      "格式錯誤\n",
      "格式錯誤\n",
      "格式錯誤\n",
      "格式錯誤\n"
     ]
    }
   ],
   "source": [
    "while True:\n",
    "    stuff = input(\"輸入小寫英文字[案q離開]\")\n",
    "    if stuff == \"q\":\n",
    "        break\n",
    "    try:\n",
    "        name = str(input(\"請輸入姓名\"))\n",
    "        height=float(input('請輸入身高'))\n",
    "        weight=float(input('請輸入體重'))\n",
    "        bmi=weight/(((height*0.01))**2)\n",
    "        if bmi<18.5:\n",
    "            grade=\"體重過輕\"\n",
    "        elif bmi<24:\n",
    "            grade=\"正常範圍\"\n",
    "        elif bmi<27:\n",
    "            grade=\"過重\"\n",
    "        elif bmi<30:\n",
    "            grade=\"輕度肥胖\"\n",
    "        elif bmi<35:\n",
    "            grade=\"中度肥胖\"\n",
    "        elif bmi>=35:\n",
    "            grade=\"重度肥胖\"\n",
    "        print(f\"{name}的bmi為{bmi},為{grade}\")\n",
    "    except ValueError:\n",
    "        print(\"格式錯誤\")\n",
    "print(\"應用結束\")"
   ]
  },
  {
   "cell_type": "code",
   "execution_count": 2,
   "metadata": {},
   "outputs": [
    {
     "name": "stdout",
     "output_type": "stream",
     "text": [
      "asd 的 BMI 為 81.30, 屬於 重度肥胖\n",
      "格式錯誤，請輸入正確的數字。\n",
      "格式錯誤，請輸入正確的數字。\n",
      "應用結束\n"
     ]
    }
   ],
   "source": [
    "while True:\n",
    "    try:\n",
    "        name = str(input(\"請輸入姓名: \"))\n",
    "        height = float(input(\"請輸入身高 (cm): \"))\n",
    "        weight = float(input(\"請輸入體重 (kg): \"))\n",
    "        bmi = weight / (height * 0.01) ** 2\n",
    "        if bmi < 18.5:\n",
    "            grade = \"體重過輕\"\n",
    "        elif bmi < 24:\n",
    "            grade = \"正常範圍\"\n",
    "        elif bmi < 27:\n",
    "            grade = \"過重\"\n",
    "        elif bmi < 30:\n",
    "            grade = \"輕度肥胖\"\n",
    "        elif bmi < 35:\n",
    "            grade = \"中度肥胖\"\n",
    "        else:\n",
    "            grade = \"重度肥胖\"\n",
    "        print(f\"{name} 的 BMI 為 {bmi:.2f}, 屬於 {grade}\")\n",
    "    except ValueError:\n",
    "        print(\"格式錯誤，請輸入正確的數字。\")\n",
    "    \n",
    "    again = input(\"要繼續計算嗎？(按q離開，按其他鍵繼續): \")\n",
    "    if again.lower() == 'q':\n",
    "        break\n",
    "\n",
    "print(\"應用結束\")\n"
   ]
  }
 ],
 "metadata": {
  "kernelspec": {
   "display_name": "Python 3",
   "language": "python",
   "name": "python3"
  },
  "language_info": {
   "codemirror_mode": {
    "name": "ipython",
    "version": 3
   },
   "file_extension": ".py",
   "mimetype": "text/x-python",
   "name": "python",
   "nbconvert_exporter": "python",
   "pygments_lexer": "ipython3",
   "version": "3.11.9"
  }
 },
 "nbformat": 4,
 "nbformat_minor": 2
}
